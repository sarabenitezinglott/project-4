{
 "cells": [
  {
   "cell_type": "code",
   "execution_count": 2,
   "metadata": {},
   "outputs": [],
   "source": [
    "import pandas as pd"
   ]
  },
  {
   "cell_type": "code",
   "execution_count": 24,
   "metadata": {},
   "outputs": [],
   "source": [
    "#Import each table to make the cleaning\n",
    "def import_tables():\n",
    "    A1 = pd.read_csv(\"../data/MYDATA/A1.csv\",sep=\";\")\n",
    "    A2 = pd.read_csv(\"../data/MYDATA/A2.csv\",sep=\";\")\n",
    "    A3 = pd.read_csv(\"../data/MYDATA/A3.csv\",sep=\";\")\n",
    "    A4 = pd.read_csv(\"../data/MYDATA/A4.csv\",sep=\";\")\n",
    "    A5 = pd.read_csv(\"../data/MYDATA/A5.csv\",sep=\";\")\n",
    "    A6 = pd.read_csv(\"../data/MYDATA/A6.csv\",sep=\";\")\n",
    "    A7 = pd.read_csv(\"../data/MYDATA/A7.csv\",sep=\";\")\n",
    "    A8 = pd.read_csv(\"../data/MYDATA/A8.csv\",sep=\";\")\n",
    "    A9 = pd.read_csv(\"../data/MYDATA/A9.csv\",sep=\";\")\n",
    "    A10 = pd.read_csv(\"../data/MYDATA/A10.csv\",sep=\";\")\n",
    "\n",
    "    C1 = pd.read_csv(\"../data/MYDATA/C1.csv\",sep=\";\")\n",
    "    C2 = pd.read_csv(\"../data/MYDATA/C2.csv\",sep=\";\")\n",
    "    C3 = pd.read_csv(\"../data/MYDATA/C3.csv\",sep=\";\")\n",
    "    C4 = pd.read_csv(\"../data/MYDATA/C4.csv\",sep=\";\")\n",
    "    C5 = pd.read_csv(\"../data/MYDATA/C5.csv\",sep=\";\")\n",
    "    C6 = pd.read_csv(\"../data/MYDATA/C6.csv\",sep=\";\")\n",
    "    C7 = pd.read_csv(\"../data/MYDATA/C7.csv\",sep=\";\")\n",
    "    C8 = pd.read_csv(\"../data/MYDATA/C8.csv\",sep=\";\")\n",
    "    C9 = pd.read_csv(\"../data/MYDATA/C9.csv\",sep=\";\")\n",
    "    C10 = pd.read_csv(\"../data/MYDATA/C10.csv\",sep=\";\")\n",
    "    C11 = pd.read_csv(\"../data/MYDATA/C11.csv\",sep=\";\")\n",
    "    C12 = pd.read_csv(\"../data/MYDATA/C12.csv\",sep=\";\")\n",
    "    C13 = pd.read_csv(\"../data/MYDATA/C13.csv\",sep=\";\")\n",
    "    C14 = pd.read_csv(\"../data/MYDATA/C14.csv\",sep=\";\")\n",
    "    C15 = pd.read_csv(\"../data/MYDATA/C15.csv\",sep=\";\")\n",
    "    C16 = pd.read_csv(\"../data/MYDATA/C16.csv\",sep=\";\")\n",
    "\n",
    "    return A1,A2,A3,A4,A5,A6,A7,A8,A9,A10,C1,C2,C3,C4,C5,C6,C7,C8,C9,C10,C11,C12,C13,C14,C15,C16"
   ]
  },
  {
   "cell_type": "code",
   "execution_count": 21,
   "metadata": {},
   "outputs": [],
   "source": [
    "def drop_first_column(df):\n",
    "    df.drop(df.columns[0], inplace = True, axis=1)\n",
    "    return df"
   ]
  },
  {
   "cell_type": "code",
   "execution_count": 23,
   "metadata": {},
   "outputs": [],
   "source": [
    "def apply_drop():\n",
    "    drop_first_column(A1)\n",
    "    drop_first_column(A2)\n",
    "    drop_first_column(A3)\n",
    "    drop_first_column(A4)\n",
    "    drop_first_column(A5)\n",
    "    drop_first_column(A6)\n",
    "    drop_first_column(A7)\n",
    "    drop_first_column(A8)\n",
    "    drop_first_column(A9)\n",
    "    drop_first_column(A10)\n",
    "\n",
    "    drop_first_column(C1)\n",
    "    drop_first_column(C2)\n",
    "    drop_first_column(C3)\n",
    "    drop_first_column(C4)\n",
    "    drop_first_column(C5)\n",
    "    drop_first_column(C6)\n",
    "    drop_first_column(C7)\n",
    "    drop_first_column(C8)\n",
    "    drop_first_column(C9)\n",
    "    drop_first_column(C10)"
   ]
  }
 ],
 "metadata": {
  "kernelspec": {
   "display_name": "ironhack",
   "language": "python",
   "name": "python3"
  },
  "language_info": {
   "codemirror_mode": {
    "name": "ipython",
    "version": 3
   },
   "file_extension": ".py",
   "mimetype": "text/x-python",
   "name": "python",
   "nbconvert_exporter": "python",
   "pygments_lexer": "ipython3",
   "version": "3.11.5"
  }
 },
 "nbformat": 4,
 "nbformat_minor": 2
}
