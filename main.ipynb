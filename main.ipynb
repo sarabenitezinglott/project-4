{
 "cells": [
  {
   "cell_type": "code",
   "execution_count": 1,
   "metadata": {},
   "outputs": [],
   "source": [
    "from src import cleaning"
   ]
  },
  {
   "cell_type": "code",
   "execution_count": 2,
   "metadata": {},
   "outputs": [],
   "source": [
    "# cleaning.import_tables()"
   ]
  },
  {
   "cell_type": "code",
   "execution_count": 3,
   "metadata": {},
   "outputs": [],
   "source": [
    "A1, A2, A3, A4, A5, A6, A7, A8, A9, A10, C1, C2, C3, C4, C5, C6, C7, C8, C9, C10, C11, C12, C13, C14, C15, C16 = cleaning.import_tables()\n"
   ]
  },
  {
   "cell_type": "code",
   "execution_count": 4,
   "metadata": {},
   "outputs": [],
   "source": [
    "dataframes = [A1, A2, A3, A4, A5, A6, A7, A8, A9, A10, C1, C2, C3, C4, C5, C6, C7, C8, C9, C10, C11, C12, C13, C14, C15, C16]\n",
    "\n",
    "for df in dataframes:\n",
    "    cleaning.drop_first_column(df)"
   ]
  },
  {
   "cell_type": "code",
   "execution_count": 5,
   "metadata": {},
   "outputs": [
    {
     "name": "stdout",
     "output_type": "stream",
     "text": [
      "None\n",
      "None\n",
      "None\n",
      "None\n",
      "None\n",
      "None\n",
      "None\n",
      "None\n",
      "None\n",
      "None\n",
      "C1 is S2 nomatch, table not useful\n",
      "C2 is S2 nomatch, table not useful\n",
      "None\n",
      "None\n",
      "C5 is S2 nomatch, table not useful\n",
      "None\n",
      "None\n",
      "C8 is S2 nomatch, table not useful\n",
      "None\n",
      "C10 is S2 nomatch, table not useful\n",
      "None\n",
      "None\n",
      "None\n",
      "None\n",
      "None\n",
      "None\n"
     ]
    }
   ],
   "source": [
    "dataframes = [(\"A1\", A1), (\"A2\", A2), (\"A3\", A3), (\"A4\", A4), (\"A5\", A5), (\"A6\", A6), (\"A7\", A7), (\"A8\", A8), (\"A9\", A9), (\"A10\", A10), \n",
    "              (\"C1\", C1), (\"C2\", C2), (\"C3\", C3), (\"C4\", C4), (\"C5\", C5), (\"C6\", C6), (\"C7\", C7), (\"C8\", C8), (\"C9\", C9), (\"C10\", C10), \n",
    "              (\"C11\", C11), (\"C12\", C12), (\"C13\", C13), (\"C14\", C14), (\"C15\", C15), (\"C16\", C16)]\n",
    "\n",
    "for df_name,df in dataframes:\n",
    "    result = cleaning.matching_condition(df,df_name)\n",
    "    print(result)"
   ]
  },
  {
   "cell_type": "code",
   "execution_count": 6,
   "metadata": {},
   "outputs": [],
   "source": [
    "#C1, C2, C5, C8 and C10 can be deleted.\n",
    "Alcoholic_group = [A1, A2, A3, A4, A5, A6, A7, A8, A9, A10,]\n",
    "Control_group = [C1, C2, C3, C4, C5, C6, C7, C8, C9, C10, C11, C12, C13, C14, C15, C16]\n",
    "\n",
    "Alcoholics =cleaning.concat_df(Alcoholic_group)\n",
    "Controls = cleaning.concat_df(Control_group)"
   ]
  }
 ],
 "metadata": {
  "kernelspec": {
   "display_name": "ironhack",
   "language": "python",
   "name": "python3"
  },
  "language_info": {
   "codemirror_mode": {
    "name": "ipython",
    "version": 3
   },
   "file_extension": ".py",
   "mimetype": "text/x-python",
   "name": "python",
   "nbconvert_exporter": "python",
   "pygments_lexer": "ipython3",
   "version": "3.11.5"
  }
 },
 "nbformat": 4,
 "nbformat_minor": 2
}
